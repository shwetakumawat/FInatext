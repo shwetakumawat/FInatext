{
  "nbformat": 4,
  "nbformat_minor": 0,
  "metadata": {
    "colab": {
      "provenance": []
    },
    "kernelspec": {
      "name": "python3",
      "display_name": "Python 3"
    },
    "language_info": {
      "name": "python"
    }
  },
  "cells": [
    {
      "cell_type": "code",
      "source": [
        "import requests\n",
        "from transformers import pipeline\n",
        "\n",
        "def summarize_paper(paper_url):\n",
        "\n",
        "    response = requests.get(paper_url)\n",
        "    paper_content = response.text\n",
        "    summarizer = pipeline(\"summarization\")\n",
        "    summary = summarizer(paper_content, max_length=150, min_length=50, length_penalty=2.0, num_beams=4, early_stopping=True)\n",
        "\n",
        "    return summary[0]['summary_text']\n",
        "\n",
        "def initiate_dialogue(summary):\n",
        "    print(f\"SYSTEM: こんにちは、この論文は、{summary}。何かお手伝いできることはありますか？\")\n",
        "\n",
        "    while True:\n",
        "\n",
        "        user_input = input(\"USER: \")\n",
        "\n",
        "        if user_input.lower() == \"cancel\":\n",
        "            print(\"SYSTEM: ダイアログをキャンセルしました。\")\n",
        "            break\n",
        "\n",
        "\n",
        "        elif user_input.lower() == \"change\":\n",
        "            break\n",
        "\n",
        "        else:\n",
        "            print(\"SYSTEM: まだ対応していない質問です。\")\n",
        "\n",
        "#if _name_ == \"_main_\":\n",
        "    while True:\n",
        "        paper_url = input(\"Enter the URL of the paper (type 'cancel' to exit): \")\n",
        "\n",
        "        if paper_url.lower() == \"cancel\":\n",
        "            print(\"Exiting the program.\")\n",
        "            break\n",
        "\n",
        "        paper_summary = summarize_paper(paper_url)\n",
        "\n",
        "        if paper_summary:\n",
        "            initiate_dialogue(paper_summary)"
      ],
      "metadata": {
        "id": "S6sImBurGrqy"
      },
      "execution_count": 9,
      "outputs": []
    },
    {
      "cell_type": "code",
      "source": [],
      "metadata": {
        "id": "sg6heXo_HIto"
      },
      "execution_count": null,
      "outputs": []
    }
  ]
}