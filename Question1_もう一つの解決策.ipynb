{
  "nbformat": 4,
  "nbformat_minor": 0,
  "metadata": {
    "colab": {
      "provenance": []
    },
    "kernelspec": {
      "name": "python3",
      "display_name": "Python 3"
    },
    "language_info": {
      "name": "python"
    }
  },
  "cells": [
    {
      "cell_type": "code",
      "execution_count": null,
      "metadata": {
        "id": "1ebb5nW6F7sN"
      },
      "outputs": [],
      "source": [
        "import requests\n",
        "from bs4 import BeautifulSoup\n",
        "from transformers import pipeline\n",
        "\n",
        "def get_paper_text(url):\n",
        "    response = requests.get(url)\n",
        "    soup = BeautifulSoup(response.text, 'html.parser')\n",
        "    paragraphs = soup.find_all('p')\n",
        "    text = ' '.join([p.get_text() for p in paragraphs])\n",
        "    return text\n",
        "\n",
        "def summarize_paper_bert(text):\n",
        "    summarizer = pipeline(task=\"summarization\", model=\"cl-tohoku/bert-base-japanese\", tokenizer=\"cl-tohoku/bert-base-japanese\")\n",
        "    summary = summarizer(text, max_length=150, min_length=50, length_penalty=2.0, num_beams=4, no_repeat_ngram_size=3)\n",
        "    return summary[0]['summary_text']\n",
        "\n",
        "paper_url = \"https://arxiv.org/pdf/2304.03442.pdf\"\n",
        "\n",
        "\n",
        "paper_text = get_paper_text(paper_url)\n",
        "\n",
        "japanese_summary = summarize_paper_bert(paper_text)\n",
        "\n",
        "print(japanese_summary)"
      ]
    },
    {
      "cell_type": "code",
      "source": [],
      "metadata": {
        "id": "B-tuApp9GLWS"
      },
      "execution_count": null,
      "outputs": []
    }
  ]
}