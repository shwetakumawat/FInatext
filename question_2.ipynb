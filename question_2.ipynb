{
  "nbformat": 4,
  "nbformat_minor": 0,
  "metadata": {
    "colab": {
      "provenance": []
    },
    "kernelspec": {
      "name": "python3",
      "display_name": "Python 3"
    },
    "language_info": {
      "name": "python"
    }
  },
  "cells": [
    {
      "cell_type": "code",
      "source": [
        "import requests\n",
        "from transformers import pipeline\n",
        "\n",
        "def summarize_paper(paper_url):\n",
        "\n",
        "    response = requests.get(\"https://arxiv.org/pdf/2304.03442.pdf\")\n",
        "    paper_content = response.text\n",
        "\n",
        "    summarizer = pipeline(\"summarization\")\n",
        "    summary = summarizer(paper_content, max_length=150, min_length=50, length_penalty=2.0, num_beams=4, early_stopping=True)\n",
        "\n",
        "    return summary[0]['summary_text']\n",
        "\n",
        "def initiate_dialogue(summary):\n",
        "    print(f\"SYSTEM: こんにちは、この論文は、{summary}。何かお手伝いできることはありますか？\")\n",
        "\n",
        "    user_input = input(\"USER: \")\n",
        "\n",
        "    if user_input.lower() == \"cancel\":\n",
        "        print(\"SYSTEM: ダイアログをキャンセルしました。\")\n",
        "        return\n",
        "\n",
        "#if _name_ == \"_main_\":\n",
        "    paper_url = input(\"Enter the URL of the paper: \")\n",
        "    paper_summary = summarize_paper(paper_url)\n",
        "\n",
        "    if paper_summary:\n",
        "        initiate_dialogue(paper_summary)"
      ],
      "metadata": {
        "id": "sO2ZG5g0EGaM"
      },
      "execution_count": 4,
      "outputs": []
    },
    {
      "cell_type": "code",
      "source": [],
      "metadata": {
        "id": "T9Tn8zVFFrts"
      },
      "execution_count": null,
      "outputs": []
    }
  ]
}